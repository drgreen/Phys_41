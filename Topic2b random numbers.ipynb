{
 "cells": [
  {
   "cell_type": "markdown",
   "metadata": {},
   "source": [
    "## Random Numbers"
   ]
  },
  {
   "cell_type": "code",
   "execution_count": 1,
   "metadata": {},
   "outputs": [],
   "source": [
    "import numpy as np\n",
    "import matplotlib.pyplot as plt"
   ]
  },
  {
   "cell_type": "markdown",
   "metadata": {},
   "source": [
    "Generating random numbers is an extremely useful tool in scientific computing.  We will see some applications in a second, but first let's just get the syntax.  "
   ]
  },
  {
   "cell_type": "markdown",
   "metadata": {},
   "source": [
    "We can do most of what we will need within the random sub-library of numpy. We can simply call the random number generator and ask for numbers as follow:"
   ]
  },
  {
   "cell_type": "code",
   "execution_count": 2,
   "metadata": {},
   "outputs": [
    {
     "name": "stdout",
     "output_type": "stream",
     "text": [
      "0.8195461711099037\n",
      "[0.04241829 0.98674512 0.24914934 0.28605677 0.35112781]\n"
     ]
    }
   ],
   "source": [
    "print(np.random.rand())\n",
    "print(np.random.rand(5))"
   ]
  },
  {
   "cell_type": "markdown",
   "metadata": {},
   "source": [
    "From just a few numbers, you can probably guess what the distribution is, but to be safe, we will make a histogram:"
   ]
  },
  {
   "cell_type": "code",
   "execution_count": 3,
   "metadata": {},
   "outputs": [
    {
     "data": {
      "image/png": "[encoded data removed]",
      "text/plain": [
       "<Figure size 432x288 with 1 Axes>"
      ]
     },
     "metadata": {
      "needs_background": "light"
     },
     "output_type": "display_data"
    }
   ],
   "source": [
    "sample=np.random.rand(int(1e6))\n",
    "\n",
    "plt.hist(sample,bins=1000)\n",
    "plt.show()"
   ]
  },
  {
   "cell_type": "markdown",
   "metadata": {},
   "source": [
    "So it seems safe to assume that random.rand() is generating a random number uniformly between 0 and 1."
   ]
  },
  {
   "cell_type": "markdown",
   "metadata": {},
   "source": [
    "This function actually will give you a bunch of random numbers in any shape "
   ]
  },
  {
   "cell_type": "code",
   "execution_count": 4,
   "metadata": {},
   "outputs": [
    {
     "name": "stdout",
     "output_type": "stream",
     "text": [
      "[[[0.93259297 0.35960928]\n",
      "  [0.16089045 0.83819215]]\n",
      "\n",
      " [[0.33784985 0.61601371]\n",
      "  [0.29987359 0.32960427]]]\n"
     ]
    }
   ],
   "source": [
    "print(np.random.rand(2,2,2))"
   ]
  },
  {
   "cell_type": "markdown",
   "metadata": {},
   "source": [
    "Given such a distribution, we can make our own function to cover any uniform distibution:"
   ]
  },
  {
   "cell_type": "code",
   "execution_count": 5,
   "metadata": {},
   "outputs": [],
   "source": [
    "def my_uniform(low,high,number):\n",
    "    out=np.random.rand(number)\n",
    "    out*=(high-low)\n",
    "    out+=low\n",
    "    return out"
   ]
  },
  {
   "cell_type": "code",
   "execution_count": 6,
   "metadata": {},
   "outputs": [
    {
     "data": {
      "text/plain": [
       "array([10.10570849, 10.08070334, 10.7003058 , 10.81053887, 10.57190272,\n",
       "       10.17764461, 10.86262599, 10.86530758, 10.69668719, 10.66332398,\n",
       "       10.91419898, 10.49226275, 10.60569535, 10.66757772, 10.01960925,\n",
       "       10.63016981, 10.46745001, 10.46504886, 10.13315529, 10.49142328])"
      ]
     },
     "execution_count": 6,
     "metadata": {},
     "output_type": "execute_result"
    }
   ],
   "source": [
    "my_uniform(10,11,20)"
   ]
  },
  {
   "cell_type": "code",
   "execution_count": 7,
   "metadata": {},
   "outputs": [
    {
     "data": {
      "text/plain": [
       "array([-65.5181357 ,  22.45957321, -84.39154698,   9.40694838,\n",
       "        24.8719564 ,  99.07204544,  77.91187432, -27.3649765 ,\n",
       "       -72.86929377, -64.87202328, -80.9784013 ,  48.92809975,\n",
       "        75.67310326, -48.99163032,  83.77496095, -33.19924291,\n",
       "       -47.88070457,  73.13821164,  29.4631383 ,   0.30577687])"
      ]
     },
     "execution_count": 7,
     "metadata": {},
     "output_type": "execute_result"
    }
   ],
   "source": [
    "my_uniform(-102.3,99.2,20)"
   ]
  },
  {
   "cell_type": "markdown",
   "metadata": {},
   "source": [
    "naturally, numpy has its own version of this function"
   ]
  },
  {
   "cell_type": "code",
   "execution_count": 8,
   "metadata": {},
   "outputs": [
    {
     "data": {
      "text/plain": [
       "array([  2.36145998, -36.96148554, -84.67084991, -42.54549034,\n",
       "       -48.43676646, -25.8260064 ,  68.32649946, -34.58715073,\n",
       "        28.56169968,  -7.7761043 , -91.28987975, -29.84895058,\n",
       "       -40.16796799, -57.30305183, -47.74247457,  -9.23807017,\n",
       "         7.06952094,   9.85293901, -70.75346697,  82.54960512])"
      ]
     },
     "execution_count": 8,
     "metadata": {},
     "output_type": "execute_result"
    }
   ],
   "source": [
    "np.random.uniform(-102.3,99.2,20)"
   ]
  },
  {
   "cell_type": "markdown",
   "metadata": {},
   "source": [
    "Random number generators are not actually random. Instead, they are just a map between a seed number that you put in and out output that is sufficiently complicated that it looks random to you. For example, we can pick the seed ourselves so that we always generate the same \"random numbers\" "
   ]
  },
  {
   "cell_type": "code",
   "execution_count": 9,
   "metadata": {},
   "outputs": [
    {
     "name": "stdout",
     "output_type": "stream",
     "text": [
      "[0.37322865 0.98569233 0.73757893]\n",
      "[0.37322865 0.98569233 0.73757893]\n"
     ]
    }
   ],
   "source": [
    "seed=101010\n",
    "np.random.seed(seed)\n",
    "print(np.random.rand(3))\n",
    "np.random.seed(seed)\n",
    "print(np.random.rand(3))"
   ]
  },
  {
   "cell_type": "markdown",
   "metadata": {},
   "source": [
    "For a simple example, consider the following function:"
   ]
  },
  {
   "cell_type": "code",
   "execution_count": 10,
   "metadata": {},
   "outputs": [],
   "source": [
    "def my_random(a,b,seed_in):\n",
    "    return a*seed_in%b"
   ]
  },
  {
   "cell_type": "code",
   "execution_count": 11,
   "metadata": {},
   "outputs": [
    {
     "data": {
      "image/png": "[encoded data removed]",
      "text/plain": [
       "<Figure size 432x288 with 1 Axes>"
      ]
     },
     "metadata": {
      "needs_background": "light"
     },
     "output_type": "display_data"
    }
   ],
   "source": [
    "sample2=my_random(7**5,100319,np.arange(10000))\n",
    "\n",
    "plt.hist(sample2,bins=100)\n",
    "plt.show()"
   ]
  },
  {
   "cell_type": "markdown",
   "metadata": {},
   "source": [
    "The idea is that the remainder after multiplying by a large number and dividing by a somewhat smaller but still large number is very difficult to predict if they are not multiples of each other. The result is that the remainder, for a predictable input is pretty close to a uniform random distribution of integers between 0 and $b-1$. Dividing by $b$ would convert this to a uniform distribution of numbers between 0 and 1"
   ]
  },
  {
   "cell_type": "code",
   "execution_count": 12,
   "metadata": {},
   "outputs": [],
   "source": [
    "def my_random01(a,b,seed_in):\n",
    "    return (a*seed_in%b)/b"
   ]
  },
  {
   "cell_type": "code",
   "execution_count": 13,
   "metadata": {
    "scrolled": true
   },
   "outputs": [
    {
     "data": {
      "image/png": "[encoded data removed]",
      "text/plain": [
       "<Figure size 432x288 with 1 Axes>"
      ]
     },
     "metadata": {
      "needs_background": "light"
     },
     "output_type": "display_data"
    }
   ],
   "source": [
    "sample3=my_random01(7**5,100319,np.arange(10000))\n",
    "\n",
    "plt.hist(sample3,bins=100)\n",
    "plt.show()"
   ]
  },
  {
   "cell_type": "markdown",
   "metadata": {},
   "source": [
    "Although it is not truly random, these numbers are effetively random as far as anyone seeing only the output is concerned. More importantly, once you have a source of the pseudo-random numbers, you can mold it to do other things you want"
   ]
  },
  {
   "cell_type": "markdown",
   "metadata": {},
   "source": [
    "#### Normal Distribution"
   ]
  },
  {
   "cell_type": "markdown",
   "metadata": {},
   "source": [
    "The other common kind of random number you will want is one drawn from a normal distibution.  This means the probability (density) of drawing the number x is $P(x) = e^{-(x-\\mu)^2/2\\sigma^2}/\\sqrt{2\\pi \\sigma^2}$.  The number $\\mu$ is called the mean and $\\sigma$ is the variance. "
   ]
  },
  {
   "cell_type": "markdown",
   "metadata": {},
   "source": [
    "Python has a nice way of generating numbers with $\\mu =0$ and $\\sigma=1$:"
   ]
  },
  {
   "cell_type": "code",
   "execution_count": 14,
   "metadata": {},
   "outputs": [
    {
     "data": {
      "text/plain": [
       "array([ 1.87750931, -0.51383686,  2.12880455,  0.40153549,  0.47074907,\n",
       "       -0.31624052,  1.07308879,  0.40959672, -0.07677096, -2.14859587])"
      ]
     },
     "execution_count": 14,
     "metadata": {},
     "output_type": "execute_result"
    }
   ],
   "source": [
    "np.random.randn(10)"
   ]
  },
  {
   "cell_type": "markdown",
   "metadata": {},
   "source": [
    "Let's make a histogram to see what this is doing:"
   ]
  },
  {
   "cell_type": "code",
   "execution_count": 15,
   "metadata": {},
   "outputs": [],
   "source": [
    "import matplotlib.pyplot as plt"
   ]
  },
  {
   "cell_type": "code",
   "execution_count": 16,
   "metadata": {},
   "outputs": [
    {
     "data": {
      "image/png": "[encoded data removed]",
      "text/plain": [
       "<Figure size 432x288 with 1 Axes>"
      ]
     },
     "metadata": {
      "needs_background": "light"
     },
     "output_type": "display_data"
    }
   ],
   "source": [
    "plt.hist(np.random.randn(1000000),bins=np.linspace(-3,3,1000))\n",
    "plt.show()"
   ]
  },
  {
   "cell_type": "markdown",
   "metadata": {},
   "source": [
    "It was one thing to go from a uniform distribution for $[0,1]$ and make it $[a,b]$, but making a normal distribution might seem like an entirely different challenge. To see that it is possible, consider teh following function:"
   ]
  },
  {
   "cell_type": "code",
   "execution_count": 17,
   "metadata": {},
   "outputs": [
    {
     "name": "stdout",
     "output_type": "stream",
     "text": [
      "25226\n"
     ]
    },
    {
     "data": {
      "image/png": "[encoded data removed]",
      "text/plain": [
       "<Figure size 432x288 with 1 Axes>"
      ]
     },
     "metadata": {
      "needs_background": "light"
     },
     "output_type": "display_data"
    }
   ],
   "source": [
    "def my_normal(N):\n",
    "    xtry=np.random.rand(N)*10-5 # pick N uniform numbers beyween -5 and 5\n",
    "    yout=np.exp(-xtry**2/2) # calculate the distribution at that point\n",
    "    ytry=np.random.rand(N) # pick a new uniform random number\n",
    "    outlist=ytry<yout # keep the random number xtry only if ytry > yout\n",
    "    return xtry[outlist]\n",
    "\n",
    "sample5=my_normal(100000)\n",
    "print(len(sample5))\n",
    "\n",
    "plt.hist(sample5,bins=100)\n",
    "plt.show()"
   ]
  },
  {
   "cell_type": "code",
   "execution_count": 18,
   "metadata": {},
   "outputs": [
    {
     "data": {
      "image/png": "[encoded data removed]",
      "text/plain": [
       "<Figure size 432x288 with 1 Axes>"
      ]
     },
     "metadata": {
      "needs_background": "light"
     },
     "output_type": "display_data"
    }
   ],
   "source": [
    "def my_normal_data(N):\n",
    "    xtry=np.random.rand(N)*10-5 # pick N uniform numbers beyween -5 and 5\n",
    "    yout=np.exp(-xtry**2/2) # calculate the distribution at that point\n",
    "    ytry=np.random.rand(N) # pick a new uniform random number\n",
    "    outlist=ytry<yout # keep the random number xtry only if ytry > yout\n",
    "    return xtry,ytry,outlist\n",
    "\n",
    "xtry1,ytry1,outlist=my_normal_data(200)\n",
    "xN=np.linspace(-5,5,100)\n",
    "yN=np.exp(-xN**2/2)\n",
    "\n",
    "color1=outlist*100\n",
    "\n",
    "plt.scatter(xtry1,ytry1,c=color1,marker='x')\n",
    "plt.plot(xN,yN)\n",
    "plt.show()"
   ]
  },
  {
   "cell_type": "markdown",
   "metadata": {},
   "source": [
    "Here all points marked with an x in the scatter plot represents uniformly distributed randomly chosen pairs of (x,y). The color indicates whether of not the $y$ value is larger or smaller than our distribution. The points below the curve were accepted values of $x$ drawn from the distribution."
   ]
  },
  {
   "cell_type": "markdown",
   "metadata": {},
   "source": [
    "#### Discrete Random Numbers"
   ]
  },
  {
   "cell_type": "markdown",
   "metadata": {},
   "source": [
    "At this point, you should get the idea that once we have on kind of random number, we can convert it into any other kind of random number. For example, you might want a list of random list of the 0s, 1s, and 2s"
   ]
  },
  {
   "cell_type": "code",
   "execution_count": 19,
   "metadata": {},
   "outputs": [
    {
     "data": {
      "text/plain": [
       "array([1, 0, 2, 2, 2, 1, 1, 2, 1, 2, 0, 0, 1, 2, 1, 0, 2, 0, 1, 1, 2, 1,\n",
       "       1, 1, 1, 2, 1, 0, 2, 1, 0, 2, 2, 1, 1, 0, 0, 1, 0, 2, 0, 1, 1, 0,\n",
       "       0, 1, 2, 2, 2, 2, 1, 1, 0, 1, 1, 2, 0, 2, 1, 1, 2, 0, 1, 1, 2, 1,\n",
       "       0, 1, 1, 0, 1, 0, 2, 0, 2, 2, 1, 2, 1, 0, 1, 0, 2, 2, 1, 2, 0, 0,\n",
       "       2, 1, 0, 2, 2, 1, 2, 0, 1, 2, 1, 0])"
      ]
     },
     "execution_count": 19,
     "metadata": {},
     "output_type": "execute_result"
    }
   ],
   "source": [
    "np.random.randint(3,size=100)"
   ]
  },
  {
   "cell_type": "markdown",
   "metadata": {},
   "source": [
    "Or we could take a binary number, like heads and tails. We can also add them up"
   ]
  },
  {
   "cell_type": "code",
   "execution_count": 20,
   "metadata": {},
   "outputs": [
    {
     "data": {
      "text/plain": [
       "6"
      ]
     },
     "execution_count": 20,
     "metadata": {},
     "output_type": "execute_result"
    }
   ],
   "source": [
    "np.random.randint(2,size=10).sum()"
   ]
  },
  {
   "cell_type": "code",
   "execution_count": 21,
   "metadata": {},
   "outputs": [],
   "source": [
    "number_of_flips=10\n",
    "number_of_trails=1000\n",
    "results=np.zeros(number_of_trails)\n",
    "for i in range(number_of_trails):\n",
    "    results[i]=np.random.randint(2,size=number_of_flips).sum()/float(number_of_flips)"
   ]
  },
  {
   "cell_type": "code",
   "execution_count": 22,
   "metadata": {},
   "outputs": [
    {
     "data": {
      "image/png": "[encoded data removed]",
      "text/plain": [
       "<Figure size 432x288 with 1 Axes>"
      ]
     },
     "metadata": {
      "needs_background": "light"
     },
     "output_type": "display_data"
    }
   ],
   "source": [
    "plt.hist(results,bins=np.linspace(0,1,10))\n",
    "plt.show()"
   ]
  },
  {
   "cell_type": "markdown",
   "metadata": {},
   "source": [
    "## Demonstration: calculating $\\pi$"
   ]
  },
  {
   "cell_type": "markdown",
   "metadata": {},
   "source": [
    "To get a quick sense of why this is useful, we can demonstrate how we can calculate $\\pi$ using what we have just learned.  This will actually serve as an important example of a much broader and more powerful set of techniques later in the course, but for now it is just to give you a taste of how these things can work for you."
   ]
  },
  {
   "cell_type": "markdown",
   "metadata": {},
   "source": [
    "The idea is the following: image you pick a point randomly inside a square of length 2 on each side.  The area of this square is 4.  I circle placed within the square with radius 1 has area $\\pi$.  If a random draw numbers that land inside the square with a uniform probability, then $\\pi/4$ of them (on average) should also be inside the circle.  Said different, after picking a point in the square, we ask if it is also in the circle and keep track.  At the end we take number in circle / total we have caculated $\\pi/4$"
   ]
  },
  {
   "cell_type": "code",
   "execution_count": 23,
   "metadata": {},
   "outputs": [],
   "source": [
    "def pi_calculator(N):\n",
    "    x=np.random.uniform(-1,1,N)  # make a list of N random numbers of x-axis of box\n",
    "    y=np.random.uniform(-1,1,N) # make a list of N random numbers of y-axis of box\n",
    "    z=(x**2+y**2<1) # make a list of every time x^2 + y^2 < 1 (inside the cicle)\n",
    "    return z.sum()/float(N)*4 # add all the points in the circle up and return 4*cicle/N"
   ]
  },
  {
   "cell_type": "code",
   "execution_count": 24,
   "metadata": {},
   "outputs": [
    {
     "data": {
      "text/plain": [
       "3.141966"
      ]
     },
     "execution_count": 24,
     "metadata": {},
     "output_type": "execute_result"
    }
   ],
   "source": [
    "pi_calculator(10**7)"
   ]
  },
  {
   "cell_type": "code",
   "execution_count": 25,
   "metadata": {},
   "outputs": [
    {
     "data": {
      "text/plain": [
       "3.1416364"
      ]
     },
     "execution_count": 25,
     "metadata": {},
     "output_type": "execute_result"
    }
   ],
   "source": [
    "pi_calculator(10**8)"
   ]
  },
  {
   "cell_type": "code",
   "execution_count": 26,
   "metadata": {},
   "outputs": [
    {
     "data": {
      "text/plain": [
       "3.141689564"
      ]
     },
     "execution_count": 26,
     "metadata": {},
     "output_type": "execute_result"
    }
   ],
   "source": [
    "pi_calculator(10**9)"
   ]
  },
  {
   "cell_type": "code",
   "execution_count": 27,
   "metadata": {},
   "outputs": [],
   "source": [
    "x=np.random.uniform(-1,1,5)\n",
    "y=np.random.uniform(-1,1,5)\n",
    "z=(x**2+y**2<1)"
   ]
  },
  {
   "cell_type": "code",
   "execution_count": 28,
   "metadata": {},
   "outputs": [
    {
     "name": "stdout",
     "output_type": "stream",
     "text": [
      "[ 0.58625172  0.09416597 -0.35796905  0.21293216 -0.68706901] [ 0.43203679 -0.8689102   0.94496303  0.27448876  0.23200993]\n",
      "[0.53034687 0.76387217 1.02109696 0.12068419 0.52589243]\n",
      "[ True  True False  True  True]\n"
     ]
    }
   ],
   "source": [
    "print(x,y)\n",
    "print(x**2+y**2)\n",
    "print(z)"
   ]
  },
  {
   "cell_type": "code",
   "execution_count": 29,
   "metadata": {},
   "outputs": [
    {
     "data": {
      "text/plain": [
       "4"
      ]
     },
     "execution_count": 29,
     "metadata": {},
     "output_type": "execute_result"
    }
   ],
   "source": [
    "z.sum()"
   ]
  },
  {
   "cell_type": "markdown",
   "metadata": {},
   "source": [
    "To see how this is working, let's write a slower version to see the steps"
   ]
  },
  {
   "cell_type": "code",
   "execution_count": 30,
   "metadata": {},
   "outputs": [],
   "source": [
    "def pi_slow(N):\n",
    "    circle=0\n",
    "    for i in range(N):\n",
    "        x=np.random.uniform(-1,1,1)  # pick a x coordinate in the box\n",
    "        y=np.random.uniform(-1,1,1) # pick a y coordinate in the box\n",
    "        if x**2+y**2<1: # make a list of every time x^2 + y^2 < 1 (inside the cicle)\n",
    "            circle+=1 \n",
    "    return 4*circle/N # add all the points in the circle up and return 4*cicle/N"
   ]
  },
  {
   "cell_type": "code",
   "execution_count": 31,
   "metadata": {},
   "outputs": [
    {
     "data": {
      "text/plain": [
       "3.13918"
      ]
     },
     "execution_count": 31,
     "metadata": {},
     "output_type": "execute_result"
    }
   ],
   "source": [
    "pi_slow(10**6)"
   ]
  },
  {
   "cell_type": "code",
   "execution_count": 32,
   "metadata": {},
   "outputs": [
    {
     "data": {
      "text/plain": [
       "3.14172736"
      ]
     },
     "execution_count": 32,
     "metadata": {},
     "output_type": "execute_result"
    }
   ],
   "source": [
    "pi_calculator(10**8)"
   ]
  },
  {
   "cell_type": "markdown",
   "metadata": {},
   "source": [
    "The slow implementation makes it clear what we are doing, but it clearly takes much longer."
   ]
  },
  {
   "cell_type": "code",
   "execution_count": 33,
   "metadata": {},
   "outputs": [],
   "source": [
    "import time"
   ]
  },
  {
   "cell_type": "code",
   "execution_count": 34,
   "metadata": {},
   "outputs": [
    {
     "name": "stdout",
     "output_type": "stream",
     "text": [
      "9.322201013565063\n"
     ]
    }
   ],
   "source": [
    "t1 = time.time()\n",
    "pi_slow(1000000)\n",
    "print(time.time() - t1)"
   ]
  },
  {
   "cell_type": "code",
   "execution_count": 35,
   "metadata": {},
   "outputs": [
    {
     "name": "stdout",
     "output_type": "stream",
     "text": [
      "0.05729389190673828\n"
     ]
    }
   ],
   "source": [
    "t1 = time.time()\n",
    "pi_calculator(1000000)\n",
    "print(time.time() - t1)"
   ]
  },
  {
   "cell_type": "markdown",
   "metadata": {},
   "source": [
    "Anticipating something we will discuss later, now let's see how our error in the measurement of pi scales with the number of random points we pick"
   ]
  },
  {
   "cell_type": "code",
   "execution_count": 36,
   "metadata": {},
   "outputs": [],
   "source": [
    "short=int(10**6)\n",
    "medium=int(10**7)\n",
    "Long=int(10**(8))\n",
    "trials=100\n",
    "pi_list_short=np.zeros(trials)\n",
    "pi_list_medium=np.zeros(trials)\n",
    "pi_list_Long=np.zeros(trials)\n",
    "for i in range(trials):\n",
    "    pi_list_short[i]=pi_calculator(short)\n",
    "    pi_list_medium[i]=pi_calculator(medium)\n",
    "    pi_list_Long[i]=pi_calculator(Long)"
   ]
  },
  {
   "cell_type": "code",
   "execution_count": 37,
   "metadata": {},
   "outputs": [
    {
     "data": {
      "image/png": "[encoded data removed]",
      "text/plain": [
       "<Figure size 432x288 with 1 Axes>"
      ]
     },
     "metadata": {
      "needs_background": "light"
     },
     "output_type": "display_data"
    }
   ],
   "source": [
    "fig, ax = plt.subplots()\n",
    "p1=ax.hist(pi_list_short,bins=np.linspace(3.13,3.15,100),label='$10^6$')\n",
    "p2=ax.hist(pi_list_medium,bins=np.linspace(3.13,3.15,100),label='$10^7$')\n",
    "p3=ax.hist(pi_list_Long,bins=np.linspace(3.13,3.15,100),label='$10^8$')\n",
    "ax.plot([np.pi,np.pi],[0,40])\n",
    "plt.ylim(0,40)\n",
    "plt.xlim(3.1375,3.145)\n",
    "leg = ax.legend()\n",
    "plt.show()"
   ]
  },
  {
   "cell_type": "markdown",
   "metadata": {},
   "source": [
    "By eye, it looks like the blue is a approximately 10 times wider than the green.  This would make sense if the error on the value of $\\pi$ decreased by $1/\\sqrt{N}$ where $N$ is the number of random points used in the calculation.  This is indeed what is going on and is a much more general fact about random numbers."
   ]
  },
  {
   "cell_type": "markdown",
   "metadata": {},
   "source": [
    "### Summary"
   ]
  },
  {
   "cell_type": "markdown",
   "metadata": {},
   "source": [
    "Numpy has a number of basic math operations we will make a lot of use off.  Random numbers are a particularly valuable tool that is employed in all areas of science and engineering.  E.g. simulating the behavior of any measurement involves adding random numbers to you signal.  We can always use the output of the random number library to create the type of noise we want for a given application.  "
   ]
  },
  {
   "cell_type": "code",
   "execution_count": null,
   "metadata": {},
   "outputs": [],
   "source": []
  }
 ],
 "metadata": {
  "kernelspec": {
   "display_name": "Python 3 (ipykernel)",
   "language": "python",
   "name": "python3"
  },
  "language_info": {
   "codemirror_mode": {
    "name": "ipython",
    "version": 3
   },
   "file_extension": ".py",
   "mimetype": "text/x-python",
   "name": "python",
   "nbconvert_exporter": "python",
   "pygments_lexer": "ipython3",
   "version": "3.9.7"
  }
 },
 "nbformat": 4,
 "nbformat_minor": 2
}
